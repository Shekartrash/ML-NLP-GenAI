{
 "cells": [
  {
   "cell_type": "markdown",
   "metadata": {},
   "source": [
    "## Stemming\n",
    "Stemming is the process of reducing a word to its word stem that affixes to suffixes and prefixes or to the roots of words known as a lemma. Stemming is important in natural language understanding (NLU) and natural language processing (NLP)."
   ]
  },
  {
   "cell_type": "code",
   "execution_count": 1,
   "metadata": {},
   "outputs": [],
   "source": [
    "## Classification Problem\n",
    "## Comments of product is a positive review or negative review\n",
    "## Reviews----> eating, eat,eaten [going,gone,goes]--->go\n",
    "\n",
    "words=[\"eating\",\"eats\",\"eaten\",\"writing\",\"writes\",\"programming\",\"programs\",\"history\",\"finally\",\"finalized\"]"
   ]
  },
  {
   "cell_type": "markdown",
   "metadata": {},
   "source": [
    "### PorterStemmer"
   ]
  },
  {
   "cell_type": "code",
   "execution_count": 2,
   "metadata": {},
   "outputs": [],
   "source": [
    "from nltk.stem import PorterStemmer"
   ]
  },
  {
   "cell_type": "code",
   "execution_count": 3,
   "metadata": {},
   "outputs": [],
   "source": [
    "stemming=PorterStemmer()"
   ]
  },
  {
   "cell_type": "code",
   "execution_count": 4,
   "metadata": {},
   "outputs": [
    {
     "name": "stdout",
     "output_type": "stream",
     "text": [
      "eating---->eat\n",
      "eats---->eat\n",
      "eaten---->eaten\n",
      "writing---->write\n",
      "writes---->write\n",
      "programming---->program\n",
      "programs---->program\n",
      "history---->histori\n",
      "finally---->final\n",
      "finalized---->final\n"
     ]
    }
   ],
   "source": [
    "for word in words:\n",
    "    print(word+\"---->\"+stemming.stem(word))"
   ]
  },
  {
   "cell_type": "code",
   "execution_count": 5,
   "metadata": {},
   "outputs": [
    {
     "data": {
      "text/plain": [
       "'congratul'"
      ]
     },
     "execution_count": 5,
     "metadata": {},
     "output_type": "execute_result"
    }
   ],
   "source": [
    "stemming.stem('congratulations')"
   ]
  },
  {
   "cell_type": "code",
   "execution_count": 6,
   "metadata": {},
   "outputs": [
    {
     "data": {
      "text/plain": [
       "'sit'"
      ]
     },
     "execution_count": 6,
     "metadata": {},
     "output_type": "execute_result"
    }
   ],
   "source": [
    "stemming.stem(\"sitting\")"
   ]
  },
  {
   "cell_type": "markdown",
   "metadata": {},
   "source": [
    "### RegexpStemmer class\n",
    "NLTK has RegexpStemmer class with the help of which we can easily implement Regular Expression Stemmer algorithms. It basically takes a single regular expression and removes any prefix or suffix that matches the expression. Let us see an example"
   ]
  },
  {
   "cell_type": "markdown",
   "metadata": {
    "tags": [
     "parameters"
    ]
   },
   "source": [
    "** SelfNotes**\n",
    "The code snippet you provided defines a **`RegexpStemmer`**, which is a type of stemmer used in Natural Language Processing (NLP) to reduce words to their base or root form by removing suffixes. Stemming is a common preprocessing step in NLP tasks like text classification, sentiment analysis, and information retrieval.\n",
    "\n",
    "Let’s break down the code:\n",
    "\n",
    "---\n",
    "\n",
    "### **Code Explanation**\n",
    "```python\n",
    "reg_stemmer = RegexpStemmer('ing$|s$|e$|able$', min=4)\n",
    "```\n",
    "\n",
    "1. **`RegexpStemmer`**:\n",
    "   - This is a stemmer that uses **regular expressions** to identify and remove suffixes from words.\n",
    "   - It is typically part of NLP libraries like NLTK (Natural Language Toolkit) or custom implementations.\n",
    "\n",
    "2. **`'ing$|s$|e$|able$'`**:\n",
    "   - This is the **regular expression pattern** used to match suffixes in words.\n",
    "   - The `|` symbol means \"OR,\" so the pattern matches any of the following suffixes:\n",
    "     - `ing$`: Matches words ending with \"ing\" (e.g., \"running\" → \"runn\").\n",
    "     - `s$`: Matches words ending with \"s\" (e.g., \"cats\" → \"cat\").\n",
    "     - `e$`: Matches words ending with \"e\" (e.g., \"love\" → \"lov\").\n",
    "     - `able$`: Matches words ending with \"able\" (e.g., \"comfortable\" → \"comfort\").\n",
    "\n",
    "   - The `$` symbol ensures that the pattern matches only at the **end of the word**.\n",
    "\n",
    "3. **`min=4`**:\n",
    "   - This parameter specifies the **minimum length of the word** for stemming to be applied.\n",
    "   - Words shorter than 4 characters will not be stemmed.\n",
    "   - For example:\n",
    "     - \"cats\" (4 characters) → \"cat\" (stemmed).\n",
    "     - \"is\" (2 characters) → remains \"is\" (not stemmed).\n",
    "\n",
    "---\n",
    "\n",
    "### **How It Works**\n",
    "- The `RegexpStemmer` applies the regular expression pattern to each word in the input text.\n",
    "- If a word matches the pattern and meets the minimum length requirement (`min=4`), the stemmer removes the matched suffix.\n",
    "- If a word does not match the pattern or is too short, it remains unchanged.\n",
    "\n",
    "---\n",
    "\n",
    "### **Example**\n",
    "Let’s see how this stemmer would process a list of words:\n",
    "\n",
    "```python\n",
    "words = [\"running\", \"cats\", \"love\", \"comfortable\", \"is\", \"jumping\"]\n",
    "stemmed_words = [reg_stemmer.stem(word) for word in words]\n",
    "print(stemmed_words)\n",
    "```\n",
    "\n",
    "**Output**:\n",
    "```\n",
    "['runn', 'cat', 'lov', 'comfort', 'is', 'jump']\n",
    "```\n",
    "\n",
    "- \"running\" → \"runn\" (`ing$` removed)\n",
    "- \"cats\" → \"cat\" (`s$` removed)\n",
    "- \"love\" → \"lov\" (`e$` removed)\n",
    "- \"comfortable\" → \"comfort\" (`able$` removed)\n",
    "- \"is\" → \"is\" (too short, no stemming applied)\n",
    "- \"jumping\" → \"jump\" (`ing$` removed)\n",
    "\n",
    "---\n",
    "\n",
    "### **Use Cases**\n",
    "- **Text Preprocessing**:\n",
    "  - Stemming reduces words to their base form, which helps in standardizing text data for analysis.\n",
    "- **Information Retrieval**:\n",
    "  - Improves search results by matching different forms of the same word (e.g., \"run,\" \"running,\" \"runs\").\n",
    "- **Sentiment Analysis**:\n",
    "  - Helps in reducing the vocabulary size and improving model performance.\n",
    "\n",
    "---\n",
    "\n",
    "### **Limitations**\n",
    "- **Over-stemming**:\n",
    "  - The stemmer may remove too much, leading to incorrect or nonsensical stems (e.g., \"comfortable\" → \"comfort\").\n",
    "- **Under-stemming**:\n",
    "  - The stemmer may fail to remove valid suffixes (e.g., \"happiness\" → \"happiness\" if the pattern doesn’t account for \"ness\").\n",
    "- **Language-Specific**:\n",
    "  - This stemmer is designed for English and may not work well for other languages.\n",
    "\n",
    "---\n",
    "\n",
    "### **Alternative Stemmers**\n",
    "- **Porter Stemmer**:\n",
    "  - A rule-based stemmer that handles a wider range of suffixes.\n",
    "- **Snowball Stemmer**:\n",
    "  - An improved version of the Porter Stemmer, supporting multiple languages.\n",
    "- **Lemmatization**:\n",
    "  - A more advanced technique that reduces words to their dictionary form (e.g., \"better\" → \"good\").\n",
    "\n",
    "---\n",
    "\n",
    "In summary, the `RegexpStemmer` is a simple and customizable tool for stemming words based on regular expressions. It’s useful for quick preprocessing tasks but may require tuning for specific use cases."
   ]
  },
  {
   "cell_type": "code",
   "execution_count": 18,
   "metadata": {},
   "outputs": [],
   "source": [
    "from nltk.stem import RegexpStemmer"
   ]
  },
  {
   "cell_type": "code",
   "execution_count": 19,
   "metadata": {
    "scrolled": true
   },
   "outputs": [],
   "source": [
    "reg_stemmer=RegexpStemmer('ing$|s$|e$|able$', min=4)"
   ]
  },
  {
   "cell_type": "code",
   "execution_count": 20,
   "metadata": {},
   "outputs": [
    {
     "data": {
      "text/plain": [
       "'eat'"
      ]
     },
     "execution_count": 20,
     "metadata": {},
     "output_type": "execute_result"
    }
   ],
   "source": [
    "reg_stemmer.stem('eating')"
   ]
  },
  {
   "cell_type": "code",
   "execution_count": 21,
   "metadata": {},
   "outputs": [
    {
     "data": {
      "text/plain": [
       "'ingeat'"
      ]
     },
     "execution_count": 21,
     "metadata": {},
     "output_type": "execute_result"
    }
   ],
   "source": [
    "reg_stemmer.stem('ingeating')"
   ]
  },
  {
   "cell_type": "code",
   "execution_count": 22,
   "metadata": {},
   "outputs": [
    {
     "data": {
      "text/plain": [
       "'is'"
      ]
     },
     "execution_count": 22,
     "metadata": {},
     "output_type": "execute_result"
    }
   ],
   "source": [
    "reg_stemmer.stem('is')"
   ]
  },
  {
   "cell_type": "markdown",
   "metadata": {},
   "source": [
    "### Snowball Stemmer\n",
    " It is a stemming algorithm which is also known as the Porter2 stemming algorithm as it is a better version of the Porter Stemmer since some issues of it were fixed in this stemmer."
   ]
  },
  {
   "cell_type": "code",
   "execution_count": 23,
   "metadata": {},
   "outputs": [],
   "source": [
    "from nltk.stem import SnowballStemmer"
   ]
  },
  {
   "cell_type": "code",
   "execution_count": 24,
   "metadata": {},
   "outputs": [],
   "source": [
    "snowballsstemmer=SnowballStemmer('english')"
   ]
  },
  {
   "cell_type": "code",
   "execution_count": 25,
   "metadata": {},
   "outputs": [
    {
     "name": "stdout",
     "output_type": "stream",
     "text": [
      "eating---->eat\n",
      "eats---->eat\n",
      "eaten---->eaten\n",
      "writing---->write\n",
      "writes---->write\n",
      "programming---->program\n",
      "programs---->program\n",
      "history---->histori\n",
      "finally---->final\n",
      "finalized---->final\n"
     ]
    }
   ],
   "source": [
    "for word in words:\n",
    "    print(word+\"---->\"+snowballsstemmer.stem(word))"
   ]
  },
  {
   "cell_type": "code",
   "execution_count": 26,
   "metadata": {},
   "outputs": [
    {
     "data": {
      "text/plain": [
       "('fairli', 'sportingli')"
      ]
     },
     "execution_count": 26,
     "metadata": {},
     "output_type": "execute_result"
    }
   ],
   "source": [
    "stemming.stem(\"fairly\"),stemming.stem(\"sportingly\")"
   ]
  },
  {
   "cell_type": "code",
   "execution_count": 27,
   "metadata": {},
   "outputs": [
    {
     "data": {
      "text/plain": [
       "('fair', 'sport')"
      ]
     },
     "execution_count": 27,
     "metadata": {},
     "output_type": "execute_result"
    }
   ],
   "source": [
    "snowballsstemmer.stem(\"fairly\"),snowballsstemmer.stem(\"sportingly\")"
   ]
  },
  {
   "cell_type": "code",
   "execution_count": 33,
   "metadata": {},
   "outputs": [
    {
     "data": {
      "text/plain": [
       "'goe'"
      ]
     },
     "execution_count": 33,
     "metadata": {},
     "output_type": "execute_result"
    }
   ],
   "source": [
    "snowballsstemmer.stem('goes')"
   ]
  },
  {
   "cell_type": "code",
   "execution_count": 34,
   "metadata": {},
   "outputs": [
    {
     "data": {
      "text/plain": [
       "'goe'"
      ]
     },
     "execution_count": 34,
     "metadata": {},
     "output_type": "execute_result"
    }
   ],
   "source": [
    "stemming.stem('goes')"
   ]
  },
  {
   "cell_type": "code",
   "execution_count": 28,
   "metadata": {},
   "outputs": [
    {
     "data": {
      "text/plain": [
       "'congratul'"
      ]
     },
     "execution_count": 28,
     "metadata": {},
     "output_type": "execute_result"
    }
   ],
   "source": [
    "snowballsstemmer.stem('congratulations')"
   ]
  },
  {
   "cell_type": "code",
   "execution_count": 29,
   "metadata": {},
   "outputs": [
    {
     "data": {
      "text/plain": [
       "'congratul'"
      ]
     },
     "execution_count": 29,
     "metadata": {},
     "output_type": "execute_result"
    }
   ],
   "source": [
    "stemming.stem('congratulations')"
   ]
  },
  {
   "cell_type": "code",
   "execution_count": null,
   "metadata": {},
   "outputs": [],
   "source": []
  },
  {
   "cell_type": "code",
   "execution_count": null,
   "metadata": {},
   "outputs": [],
   "source": []
  }
 ],
 "metadata": {
  "kernelspec": {
   "display_name": "ML-NLP-venv",
   "language": "python",
   "name": "python3"
  },
  "language_info": {
   "codemirror_mode": {
    "name": "ipython",
    "version": 3
   },
   "file_extension": ".py",
   "mimetype": "text/x-python",
   "name": "python",
   "nbconvert_exporter": "python",
   "pygments_lexer": "ipython3",
   "version": "3.11.9"
  }
 },
 "nbformat": 4,
 "nbformat_minor": 4
}
